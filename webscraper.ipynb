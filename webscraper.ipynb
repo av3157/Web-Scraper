{
 "cells": [
  {
   "cell_type": "markdown",
   "metadata": {},
   "source": [
    "# Python Web Scraper for Job Listings "
   ]
  },
  {
   "cell_type": "code",
   "execution_count": 16,
   "metadata": {},
   "outputs": [],
   "source": [
    "from selenium import webdriver\n",
    "from bs4 import BeautifulSoup\n",
    "import pandas as pd\n",
    "\n",
    "driver = webdriver.Chrome() \n",
    "driver.get(\"https://www.indeed.com/jobs?q=data+scientist&l=United+States\")\n",
    "\n",
    "driver.implicitly_wait(10)\n",
    "page_source = driver.page_source\n",
    "soup = BeautifulSoup(page_source, \"html.parser\")\n",
    "driver.quit()\n",
    "\n",
    "job_titles, companies, locations, salaries, descs = [], [], [], [], []\n",
    "\n",
    "for job_card in soup.find_all(\"div\", class_=\"job_seen_beacon\"):\n",
    "    # Job Title\n",
    "    title = job_card.find(\"h2\", class_=\"jobTitle\")\n",
    "    job_titles.append(title.text.strip() if title else \"N/A\")\n",
    "\n",
    "    # Company Name\n",
    "    company = job_card.find(\"span\", attrs={\"data-testid\": \"company-name\"})\n",
    "    companies.append(company.text.strip() if company else \"N/A\")\n",
    "\n",
    "    # Location\n",
    "    location = job_card.find(\"div\", attrs={\"data-testid\": \"text-location\"})\n",
    "    locations.append(location.text.strip() if location else \"N/A\")\n",
    "\n",
    "    # Salary\n",
    "    salary = job_card.find(\"div\", attrs={\"data-testid\": \"attribute_snippet_testid\"})\n",
    "    salaries.append(salary.text.strip() if salary else \"N/A\")\n",
    "\n",
    "    # Job Description\n",
    "    desc = job_card.find(\"div\", attrs={\"role\": \"presentation\"})\n",
    "    descs.append(desc.text.strip() if desc else \"N/A\")\n",
    "\n",
    "\n",
    "jobs_df = pd.DataFrame({\n",
    "    \"Title\": job_titles,\n",
    "    \"Company\": companies,\n",
    "    \"Location\": locations,\n",
    "    \"Salary\": salaries,\n",
    "    \"Descriptions\": descs\n",
    "})"
   ]
  },
  {
   "cell_type": "code",
   "execution_count": 17,
   "metadata": {},
   "outputs": [
    {
     "name": "stdout",
     "output_type": "stream",
     "text": [
      "AKSHAYVENKATESANP:(408)429-5391|av3157@columbia.edu|linkedin.com/in/akshay-venkatesan\n",
      "EDUCATION\n",
      "ColumbiaUniversity NewYork,NYMSinDataScience ExpectedDec2024Courses:AppliedMachineLearning,AppliedDeepLearning,AlgorithmsforDataScience, CausalInference, StatisticalInference, ComputerSystemsforDataScience\n",
      "UniversityofWashington Seattle, WABSinAppliedMathematics,Minors inDataScienceandComputationalFinance Mar2023Dean’sListeveryquarterUWPurpleandGoldScholarCourses:ArtificialIntelligence, DatabaseManagement,StatisticsandDataAnalysis, DataStructuresandAlgorithms\n",
      "WORKEXPERIENCE\n",
      "Walmart Connect Hoboken,NJDataScienceIntern June2024–Aug2024● DevelopedaMarkovChainadattributionmodeltomeasureimpactofadsoncustomerpurchaserate● StreamlinedmodeldeploymentbycreatingreusablePythonMarkovAttributionClasswhichusesfilteredSQLdatastacks● DesignedanestimationtechniquefortheMarkovattributionmodelwhichimprovedruntimeby50%● GeneratedAttributedRevenue, Share, andROASreportsforMarkov, rule-basedandsiloedapproachestoincreasecompanyunderstandingof:(1)adspend,(2)effectofduplicateadcredits, (3)adoptingconsistentattributionmethodology● AppliedMarkovmodelacross6brands, eachat3saleschannelsand2levelsofgranularitytodetermineadperformance\n",
      "Pilotly SanJose, CADataScienceIntern Sep2022–Aug2023● AutomatedstatisticalsignificancetestingwithPythonandincreasedcompanyefficiencyby10%● ProducedquadmapsinExceldisplayingeffectivenessofTVshows1monthafterlaunchdate● Optimizeddatastoragewithinnovativemethodofdetectingandeliminatingbad/unusabledatainPython\n",
      "Rivet SanJose, CADataScienceIntern June2022–Sep2022● PerformedETL(Extract,Transform,Load)processesinAWS, Segment,andPostgreSQL● CreatednewdatatablesinJavaScripttostoreincomingdata● AnalyzeddatafromdatabaseinPostgreSQLtocalculateengagementmetrics● ImprovedqualityoflifeforRivetcontentcreatorsbydeterminingmostloyalfansusingengagementmetricsinPython\n",
      "PROJECTS\n",
      "ColumbiaUniversityRoboticManipulationandMobilityLab NewYork,NYOrthosisErrorSimulation Sep2023–May2024● SimulatederrorinorthosisattachmenttoarmtoreducepatientriskofinjuryinPyChrono● Visualizedforcethresholdsovercontactpatchestounderstandhowslightperturbationsaffectorthosisefficacy\n",
      "UniversityofWashingtonDesign,Build,Fly Club Seattle, WAPackageDeploymentLead Sep2021–May2022● ProposedanewrackandpinionpackagedeploymentsysteminsideaRCplanetodeploy5pressuresensorpackages● Programmeddeploymentramptoopen/closeaftereachpackageisdelivered,maximizingcompetitionscore, usingArduino\n",
      "ADDITIONALSKILLS\n",
      "Programming: Python,SQL,R,Java,MATLABCertifications&Training:GoogleDataAnalyticsCertificatefromCoursera2021\n"
     ]
    }
   ],
   "source": [
    "from pypdf import PdfReader\n",
    "\n",
    "reader = PdfReader('Venkatesan_Akshay_Resume.pdf')\n",
    "page = reader.pages[0]\n",
    "resume = page.extract_text()\n",
    "print(resume)"
   ]
  },
  {
   "cell_type": "code",
   "execution_count": 18,
   "metadata": {},
   "outputs": [
    {
     "name": "stdout",
     "output_type": "stream",
     "text": [
      "                                Title                    Company  \\\n",
      "1   Quantitative Analyst - AI Trainer             DataAnnotation   \n",
      "0                      Data Scientist                      Gierd   \n",
      "6                      Data Scientist                 ECU Health   \n",
      "12                     Data Scientist  Texas Children's Hospital   \n",
      "9                      Data Scientist                 Demandbase   \n",
      "\n",
      "                                  Location                      Salary  \\\n",
      "1                 Remote in Fort Wayne, IN            From $40 an hour   \n",
      "0                      Sandpoint, ID 83864  $115,000 - $150,000 a year   \n",
      "6           Remote in Greenville, NC 27835                         N/A   \n",
      "12                             Houston, TX                         N/A   \n",
      "9   Hybrid work in San Francisco, CA 94107                         N/A   \n",
      "\n",
      "                                         Descriptions  Similarity Score  \n",
      "1   In this role you will need to hold an expert l...          0.549692  \n",
      "0   Easily apply\\nDesign and implement data mining...          0.511293  \n",
      "6   Works closely with the IS enterprise analytics...          0.409547  \n",
      "12  3 years of experience in experience in data sc...          0.400599  \n",
      "9   Experience: 2–3 years of experience in data sc...          0.376491  \n"
     ]
    }
   ],
   "source": [
    "from sklearn.feature_extraction.text import TfidfVectorizer\n",
    "from sklearn.metrics.pairwise import cosine_similarity\n",
    "\n",
    "documents = [resume] + jobs_df[\"Descriptions\"]\n",
    "vectorizer = TfidfVectorizer(stop_words=\"english\")\n",
    "tfidf_matrix = vectorizer.fit_transform(documents)\n",
    "\n",
    "cosine_similarities = cosine_similarity(tfidf_matrix[0:1], tfidf_matrix[1:])\n",
    "best_matches = cosine_similarities.flatten()\n",
    "best_matching_jobs = pd.DataFrame({\n",
    "    \"Similarity Score\": best_matches\n",
    "})\n",
    "\n",
    "if \"Similarity Score\" not in jobs_df.columns:\n",
    "    jobs_df = jobs_df.join(best_matching_jobs)\n",
    "jobs_df = jobs_df.sort_values(by=\"Similarity Score\", ascending=False)\n",
    "print(jobs_df.head())"
   ]
  },
  {
   "cell_type": "code",
   "execution_count": null,
   "metadata": {},
   "outputs": [],
   "source": []
  }
 ],
 "metadata": {
  "kernelspec": {
   "display_name": "Python 3",
   "language": "python",
   "name": "python3"
  },
  "language_info": {
   "codemirror_mode": {
    "name": "ipython",
    "version": 3
   },
   "file_extension": ".py",
   "mimetype": "text/x-python",
   "name": "python",
   "nbconvert_exporter": "python",
   "pygments_lexer": "ipython3",
   "version": "3.11.9"
  }
 },
 "nbformat": 4,
 "nbformat_minor": 2
}
